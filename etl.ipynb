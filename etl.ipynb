{
 "cells": [
  {
   "cell_type": "code",
   "execution_count": 11,
   "metadata": {},
   "outputs": [
    {
     "name": "stdout",
     "output_type": "stream",
     "text": [
      "Iniciando\n"
     ]
    }
   ],
   "source": [
    "import pandas as pd\n",
    "import numpy as np\n",
    "\n",
    "print(\"Iniciando\")\n",
    "sesuf = pd.read_csv(\"data/SES_UF2.csv\", sep=\";\",low_memory = False,decimal=\".\")\n",
    "ses_seguros = pd.read_csv(\"data/Ses_seguros.csv\", sep = \";\",low_memory = False,decimal=\".\")"
   ]
  },
  {
   "cell_type": "code",
   "execution_count": 20,
   "metadata": {},
   "outputs": [],
   "source": [
    "ses_seguros['premio_direto'] = ses_seguros['premio_direto'].fillna(0)\n",
    "ses_seguros['premio_direto'] = ses_seguros['premio_direto'].replace('valor_invalido', 0)\n",
    "ses_seguros['premio_direto'] = ses_seguros['premio_direto'].str.replace(',', '.')\n",
    "ses_seguros['premio_direto'] = ses_seguros['premio_direto'].astype(float)\n",
    "\n",
    "ses_seguros['premio_emitido_cap'] = ses_seguros['premio_emitido_cap'].fillna(0)\n",
    "ses_seguros['premio_emitido_cap'] = ses_seguros['premio_emitido_cap'].replace('valor_invalido', 0)\n",
    "ses_seguros['premio_emitido_cap'] = ses_seguros['premio_emitido_cap'].str.replace(',', '.')\n",
    "ses_seguros['premio_emitido_cap'] = ses_seguros['premio_emitido_cap'].astype(float)\n"
   ]
  },
  {
   "cell_type": "code",
   "execution_count": 37,
   "metadata": {},
   "outputs": [
    {
     "data": {
      "text/plain": [
       "3354716640889.218"
      ]
     },
     "execution_count": 37,
     "metadata": {},
     "output_type": "execute_result"
    }
   ],
   "source": [
    "sesuf['premio_dir'] = sesuf['premio_dir'].fillna(0)\n",
    "sesuf['premio_dir'] = sesuf['premio_dir'].replace('valor_invalido', 0)\n",
    "#sesuf['premio_dir'] = sesuf['premio_dir'].str.replace(',', '.')\n",
    "sesuf['premio_dir'] = sesuf['premio_dir'].astype(float)\n"
   ]
  },
  {
   "cell_type": "code",
   "execution_count": 33,
   "metadata": {},
   "outputs": [
    {
     "data": {
      "text/plain": [
       "30770"
      ]
     },
     "execution_count": 33,
     "metadata": {},
     "output_type": "execute_result"
    }
   ],
   "source": [
    "filtro = (ses_seguros['damesano'] == 202403)\n",
    "\n",
    "pt1 = ses_seguros.loc[filtro,'premio_direto'].sum()/1000000\n",
    "pt2 = ses_seguros.loc[filtro,'premio_emitido_cap'].sum()/1000000\n",
    "round(pt1+pt2)\n"
   ]
  },
  {
   "cell_type": "code",
   "execution_count": null,
   "metadata": {},
   "outputs": [
    {
     "ename": "",
     "evalue": "",
     "output_type": "error",
     "traceback": [
      "\u001b[1;31mFailed to start the Kernel. \n",
      "\u001b[1;31mBad file descriptor (C:\\Users\\runneradmin\\AppData\\Local\\Temp\\tmpkywtyyea\\build\\_deps\\bundled_libzmq-src\\src\\epoll.cpp:73). \n",
      "\u001b[1;31mView Jupyter <a href='command:jupyter.viewOutput'>log</a> for further details."
     ]
    }
   ],
   "source": [
    "import pyspark as spark"
   ]
  }
 ],
 "metadata": {
  "kernelspec": {
   "display_name": "myenv",
   "language": "python",
   "name": "python3"
  },
  "language_info": {
   "codemirror_mode": {
    "name": "ipython",
    "version": 3
   },
   "file_extension": ".py",
   "mimetype": "text/x-python",
   "name": "python",
   "nbconvert_exporter": "python",
   "pygments_lexer": "ipython3",
   "version": "3.12.4"
  }
 },
 "nbformat": 4,
 "nbformat_minor": 2
}
