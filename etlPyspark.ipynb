{
 "cells": [
  {
   "cell_type": "code",
   "execution_count": 18,
   "metadata": {},
   "outputs": [],
   "source": [
    "from pyspark.sql import SparkSession\n",
    "from pyspark.sql.functions import *\n",
    "from pyspark.sql.types import *"
   ]
  },
  {
   "cell_type": "code",
   "execution_count": 19,
   "metadata": {},
   "outputs": [],
   "source": [
    "#iniciando a sessão spark\n",
    "spark = (\n",
    "    SparkSession.builder\n",
    "    .master('local')\n",
    "    .appName('PySpark_01')\n",
    "    .getOrCreate()\n",
    ")"
   ]
  },
  {
   "cell_type": "code",
   "execution_count": 51,
   "metadata": {},
   "outputs": [
    {
     "name": "stdout",
     "output_type": "stream",
     "text": [
      "root\n",
      " |-- damesano: integer (nullable = true)\n",
      " |-- coenti: integer (nullable = true)\n",
      " |-- cogrupo: integer (nullable = true)\n",
      " |-- coramo: double (nullable = true)\n",
      " |-- premio_direto: string (nullable = true)\n",
      " |-- premio_de_seguros: string (nullable = true)\n",
      " |-- premio_retido: string (nullable = true)\n",
      " |-- premio_ganho: string (nullable = true)\n",
      " |-- sinistro_direto: string (nullable = true)\n",
      " |-- sinistro_retido: string (nullable = true)\n",
      " |-- desp_com: string (nullable = true)\n",
      " |-- premio_emitido2: string (nullable = true)\n",
      " |-- premio_emitido_cap: string (nullable = true)\n",
      " |-- despesa_resseguros: string (nullable = true)\n",
      " |-- sinistro_ocorrido: string (nullable = true)\n",
      " |-- receita_resseguro: string (nullable = true)\n",
      " |-- sinistros_ocorridos_cap: string (nullable = true)\n",
      " |-- recuperacao_sinistros_ocorridos_cap: string (nullable = true)\n",
      " |-- rvne: string (nullable = true)\n",
      " |-- conveniodpvat: string (nullable = true)\n",
      " |-- consorciosefundos: string (nullable = true)\n",
      "\n"
     ]
    }
   ],
   "source": [
    "#importando o csv \n",
    "df = spark.read.csv(\"data/Ses_seguros.csv\",header=True,inferSchema=True, sep = \";\")\n",
    "df.printSchema()"
   ]
  },
  {
   "cell_type": "code",
   "execution_count": 54,
   "metadata": {},
   "outputs": [
    {
     "name": "stdout",
     "output_type": "stream",
     "text": [
      "+--------+------+-------+------+-------------+-----------------+-------------+------------+---------------+---------------+--------+---------------+------------------+------------------+-----------------+-----------------+-----------------------+-----------------------------------+----+-------------+-----------------+\n",
      "|damesano|coenti|cogrupo|coramo|premio_direto|premio_de_seguros|premio_retido|premio_ganho|sinistro_direto|sinistro_retido|desp_com|premio_emitido2|premio_emitido_cap|despesa_resseguros|sinistro_ocorrido|receita_resseguro|sinistros_ocorridos_cap|recuperacao_sinistros_ocorridos_cap|rvne|conveniodpvat|consorciosefundos|\n",
      "+--------+------+-------+------+-------------+-----------------+-------------+------------+---------------+---------------+--------+---------------+------------------+------------------+-----------------+-----------------+-----------------------+-----------------------------------+----+-------------+-----------------+\n",
      "|  200009|  5355|    299| 981.0|    350407,58|        350562,87|    350291,83|   322318,58|        9115,33|        9153,15|91794,72|              0|                 0|                 0|                0|                0|                      0|                                  0|   0|            0|                0|\n",
      "|  200009|  5363|    451| 993.0|      2021293|          1269929|      1270199|     1289821|        1064400|        1064400|  909600|              0|                 0|                 0|                0|                0|                      0|                                  0|   0|            0|                0|\n",
      "|  200009|  5401|    272| 111.0|            0|                0|      2108,63|     1986,03|              0|       13317,38|    4,34|              0|                 0|                 0|                0|                0|                      0|                                  0|   0|            0|                0|\n",
      "|  200009|  5401|    272| 621.0|            0|                0|       230,56|      236,83|              0|         128,31|   15,55|              0|                 0|                 0|                0|                0|                      0|                                  0|   0|            0|                0|\n",
      "|  200009|  5401|    272|1164.0|            0|                0|            0|           0|              0|          40,58|       0|              0|                 0|                 0|                0|                0|                      0|                                  0|   0|            0|                0|\n",
      "+--------+------+-------+------+-------------+-----------------+-------------+------------+---------------+---------------+--------+---------------+------------------+------------------+-----------------+-----------------+-----------------------+-----------------------------------+----+-------------+-----------------+\n",
      "only showing top 5 rows\n",
      "\n"
     ]
    }
   ],
   "source": [
    "from pyspark.sql.functions import col, regexp_replace\n",
    "\n",
    "# Mostrar as 5 primeiras linhas do DataFrame\n",
    "df.show(5)\n",
    "\n",
    "# Lista de colunas para transformação\n",
    "columns_to_transform = [\n",
    "    'premio_direto',\n",
    "    'premio_de_seguros',\n",
    "    'premio_retido',\n",
    "    'premio_ganho',\n",
    "    'sinistro_direto',\n",
    "    'sinistro_retido'\n",
    "    \n",
    "]\n",
    "\n",
    "# Função para transformar uma coluna\n",
    "def transform_column(column_name):\n",
    "    return regexp_replace(col(column_name), ',', '.').cast('float').alias(column_name)\n",
    "\n",
    "# Cria uma lista de expressões para transformar as colunas especificadas\n",
    "transformation_exprs = [transform_column(col) for col in columns_to_transform]\n",
    "\n",
    "# Cria uma lista de expressões para as colunas não transformadas\n",
    "non_transformed_columns = [col(column) for column in df.columns if column not in columns_to_transform]\n",
    "\n",
    "# Combina as expressões de transformação com as colunas não transformadas\n",
    "all_exprs = transformation_exprs + non_transformed_columns\n",
    "\n",
    "# Aplica as transformações e mantém todas as colunas\n",
    "df_transformed = df.select(*all_exprs)\n",
    "\n"
   ]
  },
  {
   "cell_type": "code",
   "execution_count": 17,
   "metadata": {},
   "outputs": [
    {
     "name": "stdout",
     "output_type": "stream",
     "text": [
      "+--------+------+-------+------+-------------+-----------------+-------------+------------+---------------+---------------+--------+---------------+------------------+------------------+-----------------+-----------------+-----------------------+-----------------------------------+----+-------------+-----------------+\n",
      "|damesano|coenti|cogrupo|coramo|premio_direto|premio_de_seguros|premio_retido|premio_ganho|sinistro_direto|sinistro_retido|desp_com|premio_emitido2|premio_emitido_cap|despesa_resseguros|sinistro_ocorrido|receita_resseguro|sinistros_ocorridos_cap|recuperacao_sinistros_ocorridos_cap|rvne|conveniodpvat|consorciosefundos|\n",
      "+--------+------+-------+------+-------------+-----------------+-------------+------------+---------------+---------------+--------+---------------+------------------+------------------+-----------------+-----------------+-----------------------+-----------------------------------+----+-------------+-----------------+\n",
      "|  200009|  5355|    299| 981.0|    350407,58|        350562,87|    350291,83|   322318,58|        9115,33|        9153,15|91794,72|              0|                 0|                 0|                0|                0|                      0|                                  0|   0|            0|                0|\n",
      "|  200009|  5363|    451| 993.0|      2021293|          1269929|      1270199|     1289821|        1064400|        1064400|  909600|              0|                 0|                 0|                0|                0|                      0|                                  0|   0|            0|                0|\n",
      "|  200009|  5401|    272| 111.0|            0|                0|      2108,63|     1986,03|              0|       13317,38|    4,34|              0|                 0|                 0|                0|                0|                      0|                                  0|   0|            0|                0|\n",
      "|  200009|  5401|    272| 621.0|            0|                0|       230,56|      236,83|              0|         128,31|   15,55|              0|                 0|                 0|                0|                0|                      0|                                  0|   0|            0|                0|\n",
      "|  200009|  5401|    272|1164.0|            0|                0|            0|           0|              0|          40,58|       0|              0|                 0|                 0|                0|                0|                      0|                                  0|   0|            0|                0|\n",
      "|  200009|  5428|    931| 621.0|            0|                0|          241|         248|              0|             49|      16|              0|                 0|                 0|                0|                0|                      0|                                  0|   0|            0|                0|\n",
      "|  200009|  5436|    965| 117.0|            0|                0|            0|           3|              0|              0|       1|              0|                 0|                 0|                0|                0|                      0|                                  0|   0|            0|                0|\n",
      "|  200009|  5436|    965| 173.0|            0|                0|         1482|        1470|              0|           -181|     317|              0|                 0|                 0|                0|                0|                      0|                                  0|   0|            0|                0|\n",
      "|  200009|  5444|     27| 115.0|         5240|             5240|        30525|       54447|           -222|           2898|    9427|              0|                 0|                 0|                0|                0|                      0|                                  0|   0|            0|                0|\n",
      "|  200009|  5444|     27| 621.0|      3890851|          3536698|      3365365|     3135227|        1202359|         576786|  562797|              0|                 0|                 0|                0|                0|                      0|                                  0|   0|            0|                0|\n",
      "|  200009|  5487|    370| 141.0|            0|                0|         1733|        1468|              0|           1130|     294|              0|                 0|                 0|                0|                0|                      0|                                  0|   0|            0|                0|\n",
      "|  200009|  5487|    370| 433.0|            0|                0|        11227|        5757|            -47|           7005|     616|              0|                 0|                 0|                0|                0|                      0|                                  0|   0|            0|                0|\n",
      "|  200009|  5487|    370| 531.0|      -344112|          -378854|      -378320|     -375005|        2434212|        2661607|  -98185|              0|                 0|                 0|                0|                0|                      0|                                  0|   0|            0|                0|\n",
      "|  200009|  5495|    141|1066.0|    210937,27|       2500260,27|            0|           0|    -2069547,99|              0|  -32819|              0|                 0|                 0|                0|                0|                      0|                                  0|   0|            0|                0|\n",
      "|  200009|  5495|    141|1163.0|            0|                0|            0|        5,35|              0|              0|    1,47|              0|                 0|                 0|                0|                0|                      0|                                  0|   0|            0|                0|\n",
      "|  200009|  5525|  99999| 589.0|        46143|            46143|     16981,22|    30254,22|              0|           2588|    5443|              0|                 0|                 0|                0|                0|                      0|                                  0|   0|            0|                0|\n",
      "|  200009|  5533|     94| 848.0|            0|                0|         3527|        4523|              0|           7714|     803|              0|                 0|                 0|                0|                0|                      0|                                  0|   0|            0|                0|\n",
      "|  200009|  5541|  99999| 848.0|            0|                0|          236|         303|              0|            297|      54|              0|                 0|                 0|                0|                0|                      0|                                  0|   0|            0|                0|\n",
      "|  200009|  5614|     19| 775.0|            0|                0|      9938,38|     8881,68|              0|       22357,62| 2759,16|              0|                 0|                 0|                0|                0|                      0|                                  0|   0|            0|                0|\n",
      "|  200009|  5631|    230| 113.0|            0|                0|            0|           0|              0|              0|       0|              0|                 0|                 0|                0|                0|                      0|                                  0|   0|            0|                0|\n",
      "+--------+------+-------+------+-------------+-----------------+-------------+------------+---------------+---------------+--------+---------------+------------------+------------------+-----------------+-----------------+-----------------------+-----------------------------------+----+-------------+-----------------+\n",
      "only showing top 20 rows\n",
      "\n"
     ]
    }
   ],
   "source": []
  }
 ],
 "metadata": {
  "kernelspec": {
   "display_name": "base",
   "language": "python",
   "name": "python3"
  },
  "language_info": {
   "codemirror_mode": {
    "name": "ipython",
    "version": 3
   },
   "file_extension": ".py",
   "mimetype": "text/x-python",
   "name": "python",
   "nbconvert_exporter": "python",
   "pygments_lexer": "ipython3",
   "version": "3.9.13"
  }
 },
 "nbformat": 4,
 "nbformat_minor": 2
}
